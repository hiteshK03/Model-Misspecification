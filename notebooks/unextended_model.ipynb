{
 "cells": [
  {
   "cell_type": "code",
   "execution_count": 18,
   "id": "3a52b8b7",
   "metadata": {
    "scrolled": true
   },
   "outputs": [
    {
     "data": {
      "text/plain": [
       "<torch._C.Generator at 0x7f9ca0c392d0>"
      ]
     },
     "execution_count": 18,
     "metadata": {},
     "output_type": "execute_result"
    }
   ],
   "source": [
    "import torch\n",
    "from sbi import utils as utils\n",
    "from sbi import analysis as analysis\n",
    "from sbi.inference.base import infer\n",
    "import numpy as np\n",
    "import matplotlib.pyplot as plt\n",
    "import torch.nn as nn \n",
    "import torch.nn.functional as F \n",
    "import torch.distributions.normal as tdn\n",
    "from sbi import inference\n",
    "from sbi.inference import SNPE, simulate_for_sbi, prepare_for_sbi\n",
    "import warnings\n",
    "warnings.filterwarnings('ignore')\n",
    "\n",
    "# set seed for numpy and torch\n",
    "seed = 769\n",
    "np.random.seed(seed)\n",
    "torch.manual_seed(seed)"
   ]
  },
  {
   "cell_type": "markdown",
   "id": "81ab2ea9",
   "metadata": {},
   "source": [
    "### Prior ~ N(mean=0, var=25)"
   ]
  },
  {
   "cell_type": "code",
   "execution_count": 20,
   "id": "144707f7",
   "metadata": {},
   "outputs": [],
   "source": [
    "prior_parameter = torch.tensor([0.0]), torch.tensor([5.0])\n",
    "prior = tdn.Normal(prior_parameter[0], prior_parameter[1])"
   ]
  },
  {
   "cell_type": "code",
   "execution_count": 21,
   "id": "263ead88",
   "metadata": {
    "scrolled": true
   },
   "outputs": [
    {
     "data": {
      "text/plain": [
       "torch.Size([100000, 1])"
      ]
     },
     "execution_count": 21,
     "metadata": {},
     "output_type": "execute_result"
    }
   ],
   "source": [
    "prior.sample((100000,)).shape"
   ]
  },
  {
   "cell_type": "code",
   "execution_count": 22,
   "id": "52632221",
   "metadata": {},
   "outputs": [
    {
     "data": {
      "image/png": "[encoded data removed]",
      "text/plain": [
       "<Figure size 216x216 with 1 Axes>"
      ]
     },
     "metadata": {
      "needs_background": "light"
     },
     "output_type": "display_data"
    }
   ],
   "source": [
    "samples = 100000\n",
    "samples = prior.sample((samples,))\n",
    "_ = analysis.pairplot(samples, limits=[[-25,25]], figsize=(3,3))"
   ]
  },
  {
   "cell_type": "code",
   "execution_count": 23,
   "id": "9c6dfcaa",
   "metadata": {
    "scrolled": false
   },
   "outputs": [
    {
     "name": "stdout",
     "output_type": "stream",
     "text": [
      "mean of prior : -0.033\n",
      "variance of prior : 24.927\n"
     ]
    }
   ],
   "source": [
    "print(\"mean of prior : {:.3f}\".format(torch.mean(samples).item()))\n",
    "print(\"variance of prior : {:.3f}\".format(torch.var(samples).item()))"
   ]
  },
  {
   "cell_type": "code",
   "execution_count": 24,
   "id": "bb210d40",
   "metadata": {},
   "outputs": [],
   "source": [
    "prior_parameter1 = torch.tensor([0.0]), torch.tensor([1.0])\n",
    "prior1 = tdn.Normal(prior_parameter1[0], prior_parameter1[1])"
   ]
  },
  {
   "cell_type": "code",
   "execution_count": 25,
   "id": "3bed582c",
   "metadata": {},
   "outputs": [],
   "source": [
    "prior_parameter2 = torch.tensor([0.0]), torch.tensor([2.0])\n",
    "prior2 = tdn.Normal(prior_parameter2[0], prior_parameter2[1])"
   ]
  },
  {
   "cell_type": "code",
   "execution_count": 26,
   "id": "d8ae3108",
   "metadata": {},
   "outputs": [
    {
     "data": {
      "text/plain": [
       "<matplotlib.legend.Legend at 0x7f9bf0a7db20>"
      ]
     },
     "execution_count": 26,
     "metadata": {},
     "output_type": "execute_result"
    },
    {
     "data": {
      "image/png": "[encoded data removed]",
      "text/plain": [
       "<Figure size 216x216 with 1 Axes>"
      ]
     },
     "metadata": {
      "needs_background": "light"
     },
     "output_type": "display_data"
    }
   ],
   "source": [
    "samples = 100000\n",
    "samples_1 = prior1.sample((samples,))\n",
    "samples_2 = prior2.sample((samples,))\n",
    "fig, ax = analysis.pairplot([samples_1,samples_2], samples_colors = ['#d62728','#17becf'], figsize=(3,3))\n",
    "plt.legend([\"misspecified model\",\"true model\"],loc='upper right', bbox_to_anchor=(0.5, 0., 0.5, 0.5))"
   ]
  },
  {
   "cell_type": "code",
   "execution_count": 27,
   "id": "09897a0d",
   "metadata": {},
   "outputs": [
    {
     "data": {
      "image/png": "[encoded data removed]",
      "text/plain": [
       "<Figure size 432x288 with 1 Axes>"
      ]
     },
     "metadata": {
      "needs_background": "light"
     },
     "output_type": "display_data"
    }
   ],
   "source": [
    "plt.hist(np.array(samples_2), bins=\"auto\", label=\"mean\", alpha=0.7)\n",
    "plt.hist(np.array(samples_1), bins=\"auto\", label=\"mean_true_sim\", alpha=0.7)\n",
    "plt.legend([\"True model\", \"Assumed model\"])\n",
    "plt.show()"
   ]
  },
  {
   "cell_type": "markdown",
   "id": "69569dea",
   "metadata": {},
   "source": [
    "### Assumed (wrong) model ~ N(mean=theta, var=1)"
   ]
  },
  {
   "cell_type": "code",
   "execution_count": 28,
   "id": "f3da1144",
   "metadata": {},
   "outputs": [],
   "source": [
    "def assumed_simulator(theta, std=1, num_iid_samples=50):\n",
    "    batch_size, num_dims = theta.shape\n",
    "#     dist = tdn.Normal(theta, std)\n",
    "    dist = torch.distributions.MultivariateNormal(loc=theta, covariance_matrix=torch.eye(num_dims) * std)\n",
    "  # should have shape (batch_size, num_dims, num_iid_samples) or similar\n",
    "    samples = dist.sample((num_iid_samples,))\n",
    "  # take mean and var over iid dimension.\n",
    "    mean, var = torch.mean(samples, axis=0), torch.var(samples, axis=0)\n",
    "    return torch.cat([mean, var], axis=1)"
   ]
  },
  {
   "cell_type": "markdown",
   "id": "ac1d196c",
   "metadata": {},
   "source": [
    "### True model ~ N(mean=theta, var=16) "
   ]
  },
  {
   "cell_type": "markdown",
   "id": "ce72cea2",
   "metadata": {},
   "source": [
    "#### var to be varied from 1 to 25"
   ]
  },
  {
   "cell_type": "code",
   "execution_count": 29,
   "id": "349a6b63",
   "metadata": {},
   "outputs": [],
   "source": [
    "def true_simulator(theta, variance=16.0, num_iid_samples=50):\n",
    "    dist = tdn.Normal(theta, np.sqrt(variance + 4)/3)\n",
    "    samples = dist.sample((num_iid_samples,))\n",
    "    mean, var = torch.mean(samples), torch.var(samples)\n",
    "    return dist, mean, var"
   ]
  },
  {
   "cell_type": "code",
   "execution_count": 30,
   "id": "af41123b",
   "metadata": {},
   "outputs": [
    {
     "data": {
      "image/png": "[encoded data removed]",
      "text/plain": [
       "<Figure size 216x216 with 1 Axes>"
      ]
     },
     "metadata": {
      "needs_background": "light"
     },
     "output_type": "display_data"
    }
   ],
   "source": [
    "samples = 10000000\n",
    "samples = true_simulator(torch.tensor([0.0]))[0].sample((samples,))\n",
    "_ = analysis.pairplot(samples, figsize=(3,3))"
   ]
  },
  {
   "cell_type": "code",
   "execution_count": 31,
   "id": "3c213b6a",
   "metadata": {},
   "outputs": [
    {
     "name": "stdout",
     "output_type": "stream",
     "text": [
      "mean of prior : 0.001\n",
      "variance of prior : 2.221\n"
     ]
    }
   ],
   "source": [
    "print(\"mean of prior : {:.3f}\".format(torch.mean(samples).item()))\n",
    "print(\"variance of prior : {:.3f}\".format(torch.var(samples).item()))"
   ]
  },
  {
   "cell_type": "markdown",
   "id": "526aeac0",
   "metadata": {},
   "source": [
    "### True Posterior Calculations"
   ]
  },
  {
   "cell_type": "markdown",
   "id": "52969234",
   "metadata": {},
   "source": [
    "**Likelihood ~ (2/3) N(th0,1.0)+(1/3) N(th0,std^2)  \n",
    "Prior ~ N(0,25)**"
   ]
  },
  {
   "cell_type": "code",
   "execution_count": 32,
   "id": "9780e7be",
   "metadata": {},
   "outputs": [],
   "source": [
    "def true_posterior(mean, variance=4.0, num_iid_samples=50):\n",
    "    l_mean = mean\n",
    "    l_var = (((2/3)**2)+(variance/9))/num_iid_samples\n",
    "#     print(l_var)\n",
    "    p_mean = 0.0\n",
    "    p_var = 25.0\n",
    "    mean = (l_var*p_mean + p_var*l_mean) / (l_var + p_var)\n",
    "    var = 1 / (1/l_var + 1/p_var)\n",
    "    dist = tdn.Normal(torch.tensor([mean]), torch.tensor([np.sqrt(var)]))\n",
    "    return dist, mean, var"
   ]
  },
  {
   "cell_type": "code",
   "execution_count": 33,
   "id": "4041c8dc",
   "metadata": {},
   "outputs": [
    {
     "data": {
      "image/png": "[encoded data removed]",
      "text/plain": [
       "<Figure size 216x216 with 1 Axes>"
      ]
     },
     "metadata": {
      "needs_background": "light"
     },
     "output_type": "display_data"
    }
   ],
   "source": [
    "samples = 100000\n",
    "samples = true_posterior(torch.tensor([0.0]))[0].sample((samples,))\n",
    "_ = analysis.pairplot(samples, figsize=(3,3))"
   ]
  },
  {
   "cell_type": "code",
   "execution_count": 34,
   "id": "f61dc686",
   "metadata": {
    "scrolled": true
   },
   "outputs": [
    {
     "name": "stdout",
     "output_type": "stream",
     "text": [
      "mean of prior : -1.227\n",
      "variance of prior : 0.018\n"
     ]
    }
   ],
   "source": [
    "x0 = true_simulator(torch.tensor([0.0]))[0].sample((1,))\n",
    "_, mean, var = true_posterior(x0)\n",
    "print(\"mean of prior : {:.3f}\".format(mean.item()))\n",
    "print(\"variance of prior : {:.3f}\".format(var))"
   ]
  },
  {
   "cell_type": "markdown",
   "id": "d580d0c2",
   "metadata": {},
   "source": [
    "### Posterior Inference"
   ]
  },
  {
   "cell_type": "code",
   "execution_count": 35,
   "id": "cc696ee7",
   "metadata": {},
   "outputs": [],
   "source": [
    "simulator_wrapper, prior = prepare_for_sbi(assumed_simulator, prior)"
   ]
  },
  {
   "cell_type": "code",
   "execution_count": 36,
   "id": "ac981281",
   "metadata": {
    "scrolled": true
   },
   "outputs": [
    {
     "data": {
      "application/vnd.jupyter.widget-view+json": {
       "model_id": "aabb004e9660456b8f6596d7bf994f10",
       "version_major": 2,
       "version_minor": 0
      },
      "text/plain": [
       "Running 10000 simulations.:   0%|          | 0/10000 [00:00<?, ?it/s]"
      ]
     },
     "metadata": {},
     "output_type": "display_data"
    }
   ],
   "source": [
    "theta, x = simulate_for_sbi(simulator_wrapper, prior, num_simulations=10000)"
   ]
  },
  {
   "cell_type": "code",
   "execution_count": 37,
   "id": "bf0fd918",
   "metadata": {},
   "outputs": [
    {
     "data": {
      "text/plain": [
       "(torch.Size([10000, 1]), torch.Size([10000, 2]))"
      ]
     },
     "execution_count": 37,
     "metadata": {},
     "output_type": "execute_result"
    }
   ],
   "source": [
    "theta.shape, x.shape"
   ]
  },
  {
   "cell_type": "code",
   "execution_count": 38,
   "id": "2b10a073",
   "metadata": {},
   "outputs": [],
   "source": [
    "true_mean_samples = []\n",
    "true_var_samples = []\n",
    "points_list = []\n",
    "i=1\n",
    "for i in range(10000):\n",
    "    _, mean, var = true_simulator(prior.sample((1,)), 25.0)\n",
    "    true_mean_samples.append(mean)\n",
    "    true_var_samples.append(var)\n",
    "    points_list.append((i**2 + 4)/9)"
   ]
  },
  {
   "cell_type": "code",
   "execution_count": 39,
   "id": "bf111410",
   "metadata": {},
   "outputs": [
    {
     "data": {
      "image/png": "[encoded data removed]",
      "text/plain": [
       "<Figure size 288x288 with 1 Axes>"
      ]
     },
     "metadata": {
      "needs_background": "light"
     },
     "output_type": "display_data"
    }
   ],
   "source": [
    "plt.figure(figsize=(4,4))\n",
    "plt.hist(x[:10000, 0].numpy(), bins=\"auto\", label=\"mean\", alpha=0.7)\n",
    "plt.hist(np.array(true_mean_samples), bins=\"auto\", label=\"mean_true_sim\", alpha=0.7)\n",
    "plt.title(\"Training data : 'Mean'\")\n",
    "plt.legend([\"Unextended simulated data\", \"True simulator data\"])\n",
    "plt.show()"
   ]
  },
  {
   "cell_type": "code",
   "execution_count": 40,
   "id": "71ad8594",
   "metadata": {},
   "outputs": [
    {
     "data": {
      "image/png": "[encoded data removed]",
      "text/plain": [
       "<Figure size 288x288 with 1 Axes>"
      ]
     },
     "metadata": {
      "needs_background": "light"
     },
     "output_type": "display_data"
    }
   ],
   "source": [
    "plt.figure(figsize=(4,4))\n",
    "plt.hist(x[:10000, 1].numpy(), bins=\"auto\", label=\"mean\", alpha=0.7)\n",
    "plt.hist(np.array(true_var_samples), bins=\"auto\", label=\"mean_true_sim\", alpha=0.7)\n",
    "plt.title(\"Training data : 'Variance'\")\n",
    "plt.legend([\"Unextended simulated data\", \"True simulator data\"])\n",
    "plt.show()"
   ]
  },
  {
   "cell_type": "code",
   "execution_count": 42,
   "id": "0175bb0e",
   "metadata": {},
   "outputs": [],
   "source": [
    "inference = SNPE(prior=prior)"
   ]
  },
  {
   "cell_type": "code",
   "execution_count": 43,
   "id": "44f20bf0",
   "metadata": {},
   "outputs": [],
   "source": [
    "inference = inference.append_simulations(theta, x)"
   ]
  },
  {
   "cell_type": "code",
   "execution_count": 44,
   "id": "83f94691",
   "metadata": {},
   "outputs": [
    {
     "name": "stdout",
     "output_type": "stream",
     "text": [
      "Neural network successfully converged after 150 epochs.\n"
     ]
    }
   ],
   "source": [
    "density_estimator = inference.train()"
   ]
  },
  {
   "cell_type": "code",
   "execution_count": 45,
   "id": "10cd69d8",
   "metadata": {},
   "outputs": [],
   "source": [
    "posterior = inference.build_posterior(density_estimator)"
   ]
  },
  {
   "cell_type": "code",
   "execution_count": 46,
   "id": "ed3af7fc",
   "metadata": {},
   "outputs": [
    {
     "data": {
      "application/vnd.jupyter.widget-view+json": {
       "model_id": "78ade24ad40141c9b0892f333934e058",
       "version_major": 2,
       "version_minor": 0
      },
      "text/plain": [
       "Drawing 10000 posterior samples:   0%|          | 0/10000 [00:00<?, ?it/s]"
      ]
     },
     "metadata": {},
     "output_type": "display_data"
    },
    {
     "data": {
      "application/vnd.jupyter.widget-view+json": {
       "model_id": "29890806f5a442ce8aa8a8829fb0df6b",
       "version_major": 2,
       "version_minor": 0
      },
      "text/plain": [
       "Drawing 10000 posterior samples:   0%|          | 0/10000 [00:00<?, ?it/s]"
      ]
     },
     "metadata": {},
     "output_type": "display_data"
    },
    {
     "data": {
      "application/vnd.jupyter.widget-view+json": {
       "model_id": "c67feb1591294b0c8ecc02e654935d0d",
       "version_major": 2,
       "version_minor": 0
      },
      "text/plain": [
       "Drawing 10000 posterior samples:   0%|          | 0/10000 [00:00<?, ?it/s]"
      ]
     },
     "metadata": {},
     "output_type": "display_data"
    },
    {
     "data": {
      "application/vnd.jupyter.widget-view+json": {
       "model_id": "5bff8248c9d345469b672c76187864e4",
       "version_major": 2,
       "version_minor": 0
      },
      "text/plain": [
       "Drawing 10000 posterior samples:   0%|          | 0/10000 [00:00<?, ?it/s]"
      ]
     },
     "metadata": {},
     "output_type": "display_data"
    },
    {
     "data": {
      "application/vnd.jupyter.widget-view+json": {
       "model_id": "f8f147d8f9b44025bd9f6c6134e2d927",
       "version_major": 2,
       "version_minor": 0
      },
      "text/plain": [
       "Drawing 10000 posterior samples:   0%|          | 0/10000 [00:00<?, ?it/s]"
      ]
     },
     "metadata": {},
     "output_type": "display_data"
    },
    {
     "data": {
      "application/vnd.jupyter.widget-view+json": {
       "model_id": "60abf58bc93940938c9aa03515d0cf28",
       "version_major": 2,
       "version_minor": 0
      },
      "text/plain": [
       "Drawing 10000 posterior samples:   0%|          | 0/10000 [00:00<?, ?it/s]"
      ]
     },
     "metadata": {},
     "output_type": "display_data"
    },
    {
     "data": {
      "application/vnd.jupyter.widget-view+json": {
       "model_id": "13a6c58c20984b4b817c216c220072ed",
       "version_major": 2,
       "version_minor": 0
      },
      "text/plain": [
       "Drawing 10000 posterior samples:   0%|          | 0/10000 [00:00<?, ?it/s]"
      ]
     },
     "metadata": {},
     "output_type": "display_data"
    },
    {
     "data": {
      "application/vnd.jupyter.widget-view+json": {
       "model_id": "f9c4a3c077604d50876ad8e2d175cf65",
       "version_major": 2,
       "version_minor": 0
      },
      "text/plain": [
       "Drawing 10000 posterior samples:   0%|          | 0/10000 [00:00<?, ?it/s]"
      ]
     },
     "metadata": {},
     "output_type": "display_data"
    },
    {
     "data": {
      "application/vnd.jupyter.widget-view+json": {
       "model_id": "b554921d1de54d7c83b42543283fa9d0",
       "version_major": 2,
       "version_minor": 0
      },
      "text/plain": [
       "Drawing 10000 posterior samples:   0%|          | 0/10000 [00:00<?, ?it/s]"
      ]
     },
     "metadata": {},
     "output_type": "display_data"
    },
    {
     "data": {
      "application/vnd.jupyter.widget-view+json": {
       "model_id": "7831a18147a74043ac34242f03d6a765",
       "version_major": 2,
       "version_minor": 0
      },
      "text/plain": [
       "Drawing 10000 posterior samples:   0%|          | 0/10000 [00:00<?, ?it/s]"
      ]
     },
     "metadata": {},
     "output_type": "display_data"
    },
    {
     "data": {
      "application/vnd.jupyter.widget-view+json": {
       "model_id": "e75d12dc47704bd2b884c092bef00826",
       "version_major": 2,
       "version_minor": 0
      },
      "text/plain": [
       "Drawing 10000 posterior samples:   0%|          | 0/10000 [00:00<?, ?it/s]"
      ]
     },
     "metadata": {},
     "output_type": "display_data"
    },
    {
     "data": {
      "application/vnd.jupyter.widget-view+json": {
       "model_id": "1053bda1298946358df1f0da3a48add8",
       "version_major": 2,
       "version_minor": 0
      },
      "text/plain": [
       "Drawing 10000 posterior samples:   0%|          | 0/10000 [00:00<?, ?it/s]"
      ]
     },
     "metadata": {},
     "output_type": "display_data"
    },
    {
     "data": {
      "application/vnd.jupyter.widget-view+json": {
       "model_id": "489a89adbcf14071b05fddba735942aa",
       "version_major": 2,
       "version_minor": 0
      },
      "text/plain": [
       "Drawing 10000 posterior samples:   0%|          | 0/10000 [00:00<?, ?it/s]"
      ]
     },
     "metadata": {},
     "output_type": "display_data"
    },
    {
     "data": {
      "application/vnd.jupyter.widget-view+json": {
       "model_id": "8aa39871bebf42a5be2cc8122d4c9777",
       "version_major": 2,
       "version_minor": 0
      },
      "text/plain": [
       "Drawing 10000 posterior samples:   0%|          | 0/10000 [00:00<?, ?it/s]"
      ]
     },
     "metadata": {},
     "output_type": "display_data"
    },
    {
     "data": {
      "application/vnd.jupyter.widget-view+json": {
       "model_id": "2bb8449e785e41b6b8b1ffdd5b66a3f5",
       "version_major": 2,
       "version_minor": 0
      },
      "text/plain": [
       "Drawing 10000 posterior samples:   0%|          | 0/10000 [00:00<?, ?it/s]"
      ]
     },
     "metadata": {},
     "output_type": "display_data"
    },
    {
     "data": {
      "application/vnd.jupyter.widget-view+json": {
       "model_id": "4d70859814d44ff6913eec8985a43a76",
       "version_major": 2,
       "version_minor": 0
      },
      "text/plain": [
       "Drawing 10000 posterior samples:   0%|          | 0/10000 [00:00<?, ?it/s]"
      ]
     },
     "metadata": {},
     "output_type": "display_data"
    },
    {
     "data": {
      "application/vnd.jupyter.widget-view+json": {
       "model_id": "b2dff43d753842f8a064fef84bcc326f",
       "version_major": 2,
       "version_minor": 0
      },
      "text/plain": [
       "Drawing 10000 posterior samples:   0%|          | 0/10000 [00:00<?, ?it/s]"
      ]
     },
     "metadata": {},
     "output_type": "display_data"
    },
    {
     "data": {
      "application/vnd.jupyter.widget-view+json": {
       "model_id": "4c57ed922ccc4a0fbdbae4babfaeff66",
       "version_major": 2,
       "version_minor": 0
      },
      "text/plain": [
       "Drawing 10000 posterior samples:   0%|          | 0/10000 [00:00<?, ?it/s]"
      ]
     },
     "metadata": {},
     "output_type": "display_data"
    },
    {
     "data": {
      "application/vnd.jupyter.widget-view+json": {
       "model_id": "ebc0b5ce121343a181eb1ab72b720fda",
       "version_major": 2,
       "version_minor": 0
      },
      "text/plain": [
       "Drawing 10000 posterior samples:   0%|          | 0/10000 [00:00<?, ?it/s]"
      ]
     },
     "metadata": {},
     "output_type": "display_data"
    },
    {
     "data": {
      "application/vnd.jupyter.widget-view+json": {
       "model_id": "b9d016c7488e4adeade21d78c246de18",
       "version_major": 2,
       "version_minor": 0
      },
      "text/plain": [
       "Drawing 10000 posterior samples:   0%|          | 0/10000 [00:00<?, ?it/s]"
      ]
     },
     "metadata": {},
     "output_type": "display_data"
    },
    {
     "data": {
      "application/vnd.jupyter.widget-view+json": {
       "model_id": "b5fcf14647e948bc88cdbbb08ed8b3dc",
       "version_major": 2,
       "version_minor": 0
      },
      "text/plain": [
       "Drawing 10000 posterior samples:   0%|          | 0/10000 [00:00<?, ?it/s]"
      ]
     },
     "metadata": {},
     "output_type": "display_data"
    },
    {
     "data": {
      "application/vnd.jupyter.widget-view+json": {
       "model_id": "48e7cd5fcba4479c924d9aac7c9f5121",
       "version_major": 2,
       "version_minor": 0
      },
      "text/plain": [
       "Drawing 10000 posterior samples:   0%|          | 0/10000 [00:00<?, ?it/s]"
      ]
     },
     "metadata": {},
     "output_type": "display_data"
    },
    {
     "data": {
      "application/vnd.jupyter.widget-view+json": {
       "model_id": "7f32107e979846fab32597ca068dc60b",
       "version_major": 2,
       "version_minor": 0
      },
      "text/plain": [
       "Drawing 10000 posterior samples:   0%|          | 0/10000 [00:00<?, ?it/s]"
      ]
     },
     "metadata": {},
     "output_type": "display_data"
    },
    {
     "data": {
      "application/vnd.jupyter.widget-view+json": {
       "model_id": "af1ecc6d99af42e09f5279478fbf1d00",
       "version_major": 2,
       "version_minor": 0
      },
      "text/plain": [
       "Drawing 10000 posterior samples:   0%|          | 0/10000 [00:00<?, ?it/s]"
      ]
     },
     "metadata": {},
     "output_type": "display_data"
    },
    {
     "data": {
      "application/vnd.jupyter.widget-view+json": {
       "model_id": "51fc7e27cc1047da9c7e92c588f65722",
       "version_major": 2,
       "version_minor": 0
      },
      "text/plain": [
       "Drawing 10000 posterior samples:   0%|          | 0/10000 [00:00<?, ?it/s]"
      ]
     },
     "metadata": {},
     "output_type": "display_data"
    },
    {
     "data": {
      "application/vnd.jupyter.widget-view+json": {
       "model_id": "0f09eb0760c0410b96fca68d506c8378",
       "version_major": 2,
       "version_minor": 0
      },
      "text/plain": [
       "Drawing 10000 posterior samples:   0%|          | 0/10000 [00:00<?, ?it/s]"
      ]
     },
     "metadata": {},
     "output_type": "display_data"
    },
    {
     "data": {
      "application/vnd.jupyter.widget-view+json": {
       "model_id": "ffa92907b3b0455c9ce67f45a30c3f19",
       "version_major": 2,
       "version_minor": 0
      },
      "text/plain": [
       "Drawing 10000 posterior samples:   0%|          | 0/10000 [00:00<?, ?it/s]"
      ]
     },
     "metadata": {},
     "output_type": "display_data"
    },
    {
     "data": {
      "application/vnd.jupyter.widget-view+json": {
       "model_id": "873657b122a94acab80ba0a7280c7b20",
       "version_major": 2,
       "version_minor": 0
      },
      "text/plain": [
       "Drawing 10000 posterior samples:   0%|          | 0/10000 [00:00<?, ?it/s]"
      ]
     },
     "metadata": {},
     "output_type": "display_data"
    },
    {
     "data": {
      "application/vnd.jupyter.widget-view+json": {
       "model_id": "6737949a66744e3883fc4f083cc29650",
       "version_major": 2,
       "version_minor": 0
      },
      "text/plain": [
       "Drawing 10000 posterior samples:   0%|          | 0/10000 [00:00<?, ?it/s]"
      ]
     },
     "metadata": {},
     "output_type": "display_data"
    },
    {
     "data": {
      "application/vnd.jupyter.widget-view+json": {
       "model_id": "37236292c31147d88ce25cbbf87393a9",
       "version_major": 2,
       "version_minor": 0
      },
      "text/plain": [
       "Drawing 10000 posterior samples:   0%|          | 0/10000 [00:00<?, ?it/s]"
      ]
     },
     "metadata": {},
     "output_type": "display_data"
    },
    {
     "data": {
      "application/vnd.jupyter.widget-view+json": {
       "model_id": "13873d3b6aae4fe3bcf28ebb98f19439",
       "version_major": 2,
       "version_minor": 0
      },
      "text/plain": [
       "Drawing 10000 posterior samples:   0%|          | 0/10000 [00:00<?, ?it/s]"
      ]
     },
     "metadata": {},
     "output_type": "display_data"
    },
    {
     "data": {
      "application/vnd.jupyter.widget-view+json": {
       "model_id": "a1de78b722a74558b4c496847b88183d",
       "version_major": 2,
       "version_minor": 0
      },
      "text/plain": [
       "Drawing 10000 posterior samples:   0%|          | 0/10000 [00:00<?, ?it/s]"
      ]
     },
     "metadata": {},
     "output_type": "display_data"
    },
    {
     "data": {
      "application/vnd.jupyter.widget-view+json": {
       "model_id": "50049630dd6143a8996f0007ff3efdff",
       "version_major": 2,
       "version_minor": 0
      },
      "text/plain": [
       "Drawing 10000 posterior samples:   0%|          | 0/10000 [00:00<?, ?it/s]"
      ]
     },
     "metadata": {},
     "output_type": "display_data"
    },
    {
     "data": {
      "application/vnd.jupyter.widget-view+json": {
       "model_id": "88cc06114f794e7d88eab3f549ae5855",
       "version_major": 2,
       "version_minor": 0
      },
      "text/plain": [
       "Drawing 10000 posterior samples:   0%|          | 0/10000 [00:00<?, ?it/s]"
      ]
     },
     "metadata": {},
     "output_type": "display_data"
    },
    {
     "data": {
      "application/vnd.jupyter.widget-view+json": {
       "model_id": "7e51b4a7749049e0b657a03483e4a7da",
       "version_major": 2,
       "version_minor": 0
      },
      "text/plain": [
       "Drawing 10000 posterior samples:   0%|          | 0/10000 [00:00<?, ?it/s]"
      ]
     },
     "metadata": {},
     "output_type": "display_data"
    },
    {
     "data": {
      "application/vnd.jupyter.widget-view+json": {
       "model_id": "8d574c0ca8b64edf8667a0f7af58e655",
       "version_major": 2,
       "version_minor": 0
      },
      "text/plain": [
       "Drawing 10000 posterior samples:   0%|          | 0/10000 [00:00<?, ?it/s]"
      ]
     },
     "metadata": {},
     "output_type": "display_data"
    },
    {
     "data": {
      "application/vnd.jupyter.widget-view+json": {
       "model_id": "0b1f936c6cb042b9863415df3a72053c",
       "version_major": 2,
       "version_minor": 0
      },
      "text/plain": [
       "Drawing 10000 posterior samples:   0%|          | 0/10000 [00:00<?, ?it/s]"
      ]
     },
     "metadata": {},
     "output_type": "display_data"
    },
    {
     "data": {
      "application/vnd.jupyter.widget-view+json": {
       "model_id": "79dbca379a844c94b8643207147dc2bf",
       "version_major": 2,
       "version_minor": 0
      },
      "text/plain": [
       "Drawing 10000 posterior samples:   0%|          | 0/10000 [00:00<?, ?it/s]"
      ]
     },
     "metadata": {},
     "output_type": "display_data"
    },
    {
     "data": {
      "application/vnd.jupyter.widget-view+json": {
       "model_id": "64aee2e1ea044a24b606ceb283b21d98",
       "version_major": 2,
       "version_minor": 0
      },
      "text/plain": [
       "Drawing 10000 posterior samples:   0%|          | 0/10000 [00:00<?, ?it/s]"
      ]
     },
     "metadata": {},
     "output_type": "display_data"
    },
    {
     "data": {
      "application/vnd.jupyter.widget-view+json": {
       "model_id": "de9c4ee53d9543de8cc9e52390cdd109",
       "version_major": 2,
       "version_minor": 0
      },
      "text/plain": [
       "Drawing 10000 posterior samples:   0%|          | 0/10000 [00:00<?, ?it/s]"
      ]
     },
     "metadata": {},
     "output_type": "display_data"
    },
    {
     "data": {
      "application/vnd.jupyter.widget-view+json": {
       "model_id": "5b8af846687b4459acefce41e027b4fc",
       "version_major": 2,
       "version_minor": 0
      },
      "text/plain": [
       "Drawing 10000 posterior samples:   0%|          | 0/10000 [00:00<?, ?it/s]"
      ]
     },
     "metadata": {},
     "output_type": "display_data"
    }
   ],
   "source": [
    "th0 = torch.tensor([[0.0]])\n",
    "obs_list = []\n",
    "sample_list = []\n",
    "th_list = []\n",
    "probs_list = []\n",
    "var_list = []\n",
    "posterior_mean = []\n",
    "posterior_var = []\n",
    "i=1\n",
    "while i < 5:\n",
    "    _, mean, var = true_simulator(th0, i**2)\n",
    "    samples = posterior.sample((10000,), x=[mean, var])\n",
    "    sample_list.append(samples)\n",
    "    obs_list.append(mean)\n",
    "    th_list.append(th0)\n",
    "    var_list.append(i**2)\n",
    "    _, mean, var = true_posterior(mean, i**2)\n",
    "    posterior_mean.append(mean.item())\n",
    "    posterior_var.append(var)\n",
    "    i+=0.1"
   ]
  },
  {
   "cell_type": "code",
   "execution_count": 47,
   "id": "0cd31fd8",
   "metadata": {
    "scrolled": true
   },
   "outputs": [
    {
     "data": {
      "image/png": "[encoded data removed]",
      "text/plain": [
       "<Figure size 216x216 with 1 Axes>"
      ]
     },
     "metadata": {
      "needs_background": "light"
     },
     "output_type": "display_data"
    },
    {
     "data": {
      "image/png": "[encoded data removed]",
      "text/plain": [
       "<Figure size 216x216 with 1 Axes>"
      ]
     },
     "metadata": {
      "needs_background": "light"
     },
     "output_type": "display_data"
    },
    {
     "data": {
      "image/png": "[encoded data removed]",
      "text/plain": [
       "<Figure size 216x216 with 1 Axes>"
      ]
     },
     "metadata": {
      "needs_background": "light"
     },
     "output_type": "display_data"
    },
    {
     "data": {
      "image/png": "[encoded data removed]",
      "text/plain": [
       "<Figure size 216x216 with 1 Axes>"
      ]
     },
     "metadata": {
      "needs_background": "light"
     },
     "output_type": "display_data"
    },
    {
     "data": {
      "image/png": "[encoded data removed]",
      "text/plain": [
       "<Figure size 216x216 with 1 Axes>"
      ]
     },
     "metadata": {
      "needs_background": "light"
     },
     "output_type": "display_data"
    },
    {
     "data": {
      "image/png": "[encoded data removed]",
      "text/plain": [
       "<Figure size 216x216 with 1 Axes>"
      ]
     },
     "metadata": {
      "needs_background": "light"
     },
     "output_type": "display_data"
    },
    {
     "data": {
      "image/png": "[encoded data removed]",
      "text/plain": [
       "<Figure size 216x216 with 1 Axes>"
      ]
     },
     "metadata": {
      "needs_background": "light"
     },
     "output_type": "display_data"
    },
    {
     "data": {
      "image/png": "[encoded data removed]",
      "text/plain": [
       "<Figure size 216x216 with 1 Axes>"
      ]
     },
     "metadata": {
      "needs_background": "light"
     },
     "output_type": "display_data"
    },
    {
     "data": {
      "image/png": "[encoded data removed]",
      "text/plain": [
       "<Figure size 216x216 with 1 Axes>"
      ]
     },
     "metadata": {
      "needs_background": "light"
     },
     "output_type": "display_data"
    },
    {
     "data": {
      "image/png": "[encoded data removed]",
      "text/plain": [
       "<Figure size 216x216 with 1 Axes>"
      ]
     },
     "metadata": {
      "needs_background": "light"
     },
     "output_type": "display_data"
    },
    {
     "data": {
      "image/png": "[encoded data removed]",
      "text/plain": [
       "<Figure size 216x216 with 1 Axes>"
      ]
     },
     "metadata": {
      "needs_background": "light"
     },
     "output_type": "display_data"
    },
    {
     "data": {
      "image/png": "[encoded data removed]",
      "text/plain": [
       "<Figure size 216x216 with 1 Axes>"
      ]
     },
     "metadata": {
      "needs_background": "light"
     },
     "output_type": "display_data"
    },
    {
     "data": {
      "image/png": "[encoded data removed]",
      "text/plain": [
       "<Figure size 216x216 with 1 Axes>"
      ]
     },
     "metadata": {
      "needs_background": "light"
     },
     "output_type": "display_data"
    },
    {
     "data": {
      "image/png": "[encoded data removed]",
      "text/plain": [
       "<Figure size 216x216 with 1 Axes>"
      ]
     },
     "metadata": {
      "needs_background": "light"
     },
     "output_type": "display_data"
    },
    {
     "data": {
      "image/png": "[encoded data removed]",
      "text/plain": [
       "<Figure size 216x216 with 1 Axes>"
      ]
     },
     "metadata": {
      "needs_background": "light"
     },
     "output_type": "display_data"
    },
    {
     "data": {
      "image/png": "[encoded data removed]",
      "text/plain": [
       "<Figure size 216x216 with 1 Axes>"
      ]
     },
     "metadata": {
      "needs_background": "light"
     },
     "output_type": "display_data"
    },
    {
     "data": {
      "image/png": "[encoded data removed]",
      "text/plain": [
       "<Figure size 216x216 with 1 Axes>"
      ]
     },
     "metadata": {
      "needs_background": "light"
     },
     "output_type": "display_data"
    },
    {
     "data": {
      "image/png": "[encoded data removed]",
      "text/plain": [
       "<Figure size 216x216 with 1 Axes>"
      ]
     },
     "metadata": {
      "needs_background": "light"
     },
     "output_type": "display_data"
    },
    {
     "data": {
      "image/png": "[encoded data removed]",
      "text/plain": [
       "<Figure size 216x216 with 1 Axes>"
      ]
     },
     "metadata": {
      "needs_background": "light"
     },
     "output_type": "display_data"
    },
    {
     "data": {
      "image/png": "[encoded data removed]",
      "text/plain": [
       "<Figure size 216x216 with 1 Axes>"
      ]
     },
     "metadata": {
      "needs_background": "light"
     },
     "output_type": "display_data"
    },
    {
     "data": {
      "image/png": "[encoded data removed]",
      "text/plain": [
       "<Figure size 216x216 with 1 Axes>"
      ]
     },
     "metadata": {
      "needs_background": "light"
     },
     "output_type": "display_data"
    },
    {
     "data": {
      "image/png": "[encoded data removed]",
      "text/plain": [
       "<Figure size 216x216 with 1 Axes>"
      ]
     },
     "metadata": {
      "needs_background": "light"
     },
     "output_type": "display_data"
    },
    {
     "data": {
      "image/png": "[encoded data removed]",
      "text/plain": [
       "<Figure size 216x216 with 1 Axes>"
      ]
     },
     "metadata": {
      "needs_background": "light"
     },
     "output_type": "display_data"
    },
    {
     "data": {
      "image/png": "[encoded data removed]",
      "text/plain": [
       "<Figure size 216x216 with 1 Axes>"
      ]
     },
     "metadata": {
      "needs_background": "light"
     },
     "output_type": "display_data"
    },
    {
     "data": {
      "image/png": "[encoded data removed]",
      "text/plain": [
       "<Figure size 216x216 with 1 Axes>"
      ]
     },
     "metadata": {
      "needs_background": "light"
     },
     "output_type": "display_data"
    },
    {
     "data": {
      "image/png": "[encoded data removed]",
      "text/plain": [
       "<Figure size 216x216 with 1 Axes>"
      ]
     },
     "metadata": {
      "needs_background": "light"
     },
     "output_type": "display_data"
    },
    {
     "data": {
      "image/png": "[encoded data removed]",
      "text/plain": [
       "<Figure size 216x216 with 1 Axes>"
      ]
     },
     "metadata": {
      "needs_background": "light"
     },
     "output_type": "display_data"
    },
    {
     "data": {
      "image/png": "[encoded data removed]",
      "text/plain": [
       "<Figure size 216x216 with 1 Axes>"
      ]
     },
     "metadata": {
      "needs_background": "light"
     },
     "output_type": "display_data"
    },
    {
     "data": {
      "image/png": "[encoded data removed]",
      "text/plain": [
       "<Figure size 216x216 with 1 Axes>"
      ]
     },
     "metadata": {
      "needs_background": "light"
     },
     "output_type": "display_data"
    },
    {
     "data": {
      "image/png": "[encoded data removed]",
      "text/plain": [
       "<Figure size 216x216 with 1 Axes>"
      ]
     },
     "metadata": {
      "needs_background": "light"
     },
     "output_type": "display_data"
    },
    {
     "data": {
      "image/png": "[encoded data removed]",
      "text/plain": [
       "<Figure size 216x216 with 1 Axes>"
      ]
     },
     "metadata": {
      "needs_background": "light"
     },
     "output_type": "display_data"
    },
    {
     "data": {
      "image/png": "[encoded data removed]",
      "text/plain": [
       "<Figure size 216x216 with 1 Axes>"
      ]
     },
     "metadata": {
      "needs_background": "light"
     },
     "output_type": "display_data"
    },
    {
     "data": {
      "image/png": "[encoded data removed]",
      "text/plain": [
       "<Figure size 216x216 with 1 Axes>"
      ]
     },
     "metadata": {
      "needs_background": "light"
     },
     "output_type": "display_data"
    },
    {
     "data": {
      "image/png": "[encoded data removed]",
      "text/plain": [
       "<Figure size 216x216 with 1 Axes>"
      ]
     },
     "metadata": {
      "needs_background": "light"
     },
     "output_type": "display_data"
    },
    {
     "data": {
      "image/png": "[encoded data removed]",
      "text/plain": [
       "<Figure size 216x216 with 1 Axes>"
      ]
     },
     "metadata": {
      "needs_background": "light"
     },
     "output_type": "display_data"
    },
    {
     "data": {
      "image/png": "[encoded data removed]",
      "text/plain": [
       "<Figure size 216x216 with 1 Axes>"
      ]
     },
     "metadata": {
      "needs_background": "light"
     },
     "output_type": "display_data"
    },
    {
     "data": {
      "image/png": "[encoded data removed]",
      "text/plain": [
       "<Figure size 216x216 with 1 Axes>"
      ]
     },
     "metadata": {
      "needs_background": "light"
     },
     "output_type": "display_data"
    },
    {
     "data": {
      "image/png": "[encoded data removed]",
      "text/plain": [
       "<Figure size 216x216 with 1 Axes>"
      ]
     },
     "metadata": {
      "needs_background": "light"
     },
     "output_type": "display_data"
    },
    {
     "data": {
      "image/png": "[encoded data removed]",
      "text/plain": [
       "<Figure size 216x216 with 1 Axes>"
      ]
     },
     "metadata": {
      "needs_background": "light"
     },
     "output_type": "display_data"
    },
    {
     "data": {
      "image/png": "[encoded data removed]",
      "text/plain": [
       "<Figure size 216x216 with 1 Axes>"
      ]
     },
     "metadata": {
      "needs_background": "light"
     },
     "output_type": "display_data"
    },
    {
     "data": {
      "image/png": "[encoded data removed]",
      "text/plain": [
       "<Figure size 216x216 with 1 Axes>"
      ]
     },
     "metadata": {
      "needs_background": "light"
     },
     "output_type": "display_data"
    }
   ],
   "source": [
    "for i in range(len(sample_list)):\n",
    "    _ = analysis.pairplot(sample_list[i], points=posterior_mean[i], limits=[[-16,16]], figsize=(3,3))"
   ]
  },
  {
   "cell_type": "code",
   "execution_count": 54,
   "id": "1762e85b",
   "metadata": {},
   "outputs": [
    {
     "data": {
      "image/png": "[encoded data removed]",
      "text/plain": [
       "<Figure size 360x360 with 1 Axes>"
      ]
     },
     "metadata": {
      "needs_background": "light"
     },
     "output_type": "display_data"
    }
   ],
   "source": [
    "_ = analysis.pairplot(sample_list,points=th0, labels=['Posterior mean'],\n",
    "                      figsize=(5,5))"
   ]
  },
  {
   "cell_type": "code",
   "execution_count": 49,
   "id": "ddf0a684",
   "metadata": {},
   "outputs": [],
   "source": [
    "sample_mean = np.mean(sample_list, axis=1)\n",
    "sample_var = np.var(sample_list, axis=1)"
   ]
  },
  {
   "cell_type": "code",
   "execution_count": 51,
   "id": "2c60593f",
   "metadata": {},
   "outputs": [
    {
     "data": {
      "image/png": "[encoded data removed]",
      "text/plain": [
       "<Figure size 432x288 with 1 Axes>"
      ]
     },
     "metadata": {
      "needs_background": "light"
     },
     "output_type": "display_data"
    }
   ],
   "source": [
    "plt.plot(var_list, sample_mean, color='green', linestyle='dashed', linewidth = 1,\n",
    "         marker='o', markerfacecolor='yellow', markersize=12)\n",
    "plt.plot(var_list,posterior_mean, color='red', linestyle='dashed', linewidth = 1,\n",
    "         marker='x', markerfacecolor='black', markersize=12)\n",
    "plt.xlabel(\"variance\")\n",
    "plt.ylabel(\"th_hat\")\n",
    "plt.legend([\"Sample mean\", \"True posterior mean\"], loc =\"upper left\")\n",
    "plt.show()"
   ]
  },
  {
   "cell_type": "code",
   "execution_count": 52,
   "id": "9d05c961",
   "metadata": {
    "scrolled": false
   },
   "outputs": [
    {
     "data": {
      "image/png": "[encoded data removed]",
      "text/plain": [
       "<Figure size 432x288 with 1 Axes>"
      ]
     },
     "metadata": {
      "needs_background": "light"
     },
     "output_type": "display_data"
    }
   ],
   "source": [
    "plt.plot(var_list, sample_var, color='green', linestyle='dashed', linewidth = 3,\n",
    "         marker='o', markerfacecolor='blue', markersize=12)\n",
    "plt.plot(var_list,posterior_var, color='red', linestyle='dashed', linewidth = 1,\n",
    "         marker='x', markerfacecolor='black', markersize=12)\n",
    "plt.xlabel(\"variance\")\n",
    "plt.ylabel(\"sample_var\")\n",
    "plt.legend([\"Sample variance\", \"True posterior variance\"], loc =\"upper left\")\n",
    "plt.show()"
   ]
  },
  {
   "cell_type": "markdown",
   "id": "77735f26",
   "metadata": {},
   "source": [
    "### Posterior Predictive Check"
   ]
  },
  {
   "cell_type": "code",
   "execution_count": 66,
   "id": "1cdee4a1",
   "metadata": {},
   "outputs": [
    {
     "name": "stdout",
     "output_type": "stream",
     "text": [
      "Mean = -4.259, Variance = 3.570\n"
     ]
    },
    {
     "data": {
      "application/vnd.jupyter.widget-view+json": {
       "model_id": "3b955b2423af48f78f710698ce956473",
       "version_major": 2,
       "version_minor": 0
      },
      "text/plain": [
       "Drawing 10000 posterior samples:   0%|          | 0/10000 [00:00<?, ?it/s]"
      ]
     },
     "metadata": {},
     "output_type": "display_data"
    },
    {
     "data": {
      "text/plain": [
       "<matplotlib.legend.Legend at 0x7f9bd67ced30>"
      ]
     },
     "execution_count": 66,
     "metadata": {},
     "output_type": "execute_result"
    },
    {
     "data": {
      "image/png": "[encoded data removed]",
      "text/plain": [
       "<Figure size 648x648 with 4 Axes>"
      ]
     },
     "metadata": {
      "needs_background": "light"
     },
     "output_type": "display_data"
    }
   ],
   "source": [
    "num_simulations = 10000\n",
    "_, mean0, var0 = true_simulator(prior.sample((1,)), 25.0)\n",
    "print(\"Mean = {:.3f}, Variance = {:.3f}\".format(mean0, var0))\n",
    "samples1 = posterior.sample((num_simulations,), x=[mean0,var0])\n",
    "samp3 = true_posterior(mean0,25.0)[0].sample((num_simulations,))\n",
    "a = assumed_simulator(samples1)\n",
    "p = np.stack([mean0, var0])\n",
    "mean_samples = []\n",
    "var_samples = []\n",
    "for param in samp3:\n",
    "    _, mean, var = true_simulator(param, 25.0)\n",
    "    mean_samples.append(mean)\n",
    "    var_samples.append(var)\n",
    "mean_samples, var_samples = torch.tensor(mean_samples), torch.tensor(var_samples)\n",
    "mean_samples, var_samples = torch.reshape(mean_samples, (-1,1)), torch.reshape(var_samples, (-1,1))\n",
    "t = torch.cat([mean_samples, var_samples], axis=1)\n",
    "l = [t,a]\n",
    "fig, ax = analysis.pairplot(l,points=p, upper=\"scatter\",  samples_colors = ['#d62728', '#17becf'], labels=['sample mean','sample variance'], figsize=(9,9))\n",
    "plt.sca(ax[0,1])\n",
    "plt.legend([\"observed point\",\"True posterior\",\"Inference over mean\"])\n",
    "# _ = analysis.pairplot(var_samples,points=var, limits=[[-6,6]], figsize=(3,3))"
   ]
  }
 ],
 "metadata": {
  "kernelspec": {
   "display_name": "Python 3",
   "language": "python",
   "name": "python3"
  },
  "language_info": {
   "codemirror_mode": {
    "name": "ipython",
    "version": 3
   },
   "file_extension": ".py",
   "mimetype": "text/x-python",
   "name": "python",
   "nbconvert_exporter": "python",
   "pygments_lexer": "ipython3",
   "version": "3.8.10"
  }
 },
 "nbformat": 4,
 "nbformat_minor": 5
}
